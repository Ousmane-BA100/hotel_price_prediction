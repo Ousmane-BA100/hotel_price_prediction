{
 "cells": [
  {
   "cell_type": "markdown",
   "id": "1d84c519-743c-4e33-b5fa-9cd2eddcdb6e",
   "metadata": {},
   "source": [
    "## 0. Chargement des données"
   ]
  },
  {
   "cell_type": "code",
   "execution_count": 9,
   "id": "c8cb00e5-ce71-4534-9213-1aa088a8b60b",
   "metadata": {},
   "outputs": [
    {
     "data": {
      "text/html": [
       "<div>\n",
       "<style scoped>\n",
       "    .dataframe tbody tr th:only-of-type {\n",
       "        vertical-align: middle;\n",
       "    }\n",
       "\n",
       "    .dataframe tbody tr th {\n",
       "        vertical-align: top;\n",
       "    }\n",
       "\n",
       "    .dataframe thead th {\n",
       "        text-align: right;\n",
       "    }\n",
       "</style>\n",
       "<table border=\"1\" class=\"dataframe\">\n",
       "  <thead>\n",
       "    <tr style=\"text-align: right;\">\n",
       "      <th></th>\n",
       "      <th>order_requests</th>\n",
       "      <th>city_x</th>\n",
       "      <th>date</th>\n",
       "      <th>language</th>\n",
       "      <th>mobile</th>\n",
       "      <th>avatar_id</th>\n",
       "      <th>hotel_id</th>\n",
       "      <th>stock</th>\n",
       "      <th>group</th>\n",
       "      <th>brand</th>\n",
       "      <th>parking</th>\n",
       "      <th>pool</th>\n",
       "      <th>children_policy</th>\n",
       "      <th>price</th>\n",
       "    </tr>\n",
       "  </thead>\n",
       "  <tbody>\n",
       "    <tr>\n",
       "      <th>0</th>\n",
       "      <td>1</td>\n",
       "      <td>8</td>\n",
       "      <td>21</td>\n",
       "      <td>22</td>\n",
       "      <td>0</td>\n",
       "      <td>1</td>\n",
       "      <td>161</td>\n",
       "      <td>46</td>\n",
       "      <td>1</td>\n",
       "      <td>8</td>\n",
       "      <td>1</td>\n",
       "      <td>0</td>\n",
       "      <td>0</td>\n",
       "      <td>204.835708</td>\n",
       "    </tr>\n",
       "    <tr>\n",
       "      <th>1</th>\n",
       "      <td>1</td>\n",
       "      <td>8</td>\n",
       "      <td>21</td>\n",
       "      <td>22</td>\n",
       "      <td>0</td>\n",
       "      <td>1</td>\n",
       "      <td>187</td>\n",
       "      <td>32</td>\n",
       "      <td>0</td>\n",
       "      <td>9</td>\n",
       "      <td>1</td>\n",
       "      <td>1</td>\n",
       "      <td>0</td>\n",
       "      <td>223.086785</td>\n",
       "    </tr>\n",
       "    <tr>\n",
       "      <th>2</th>\n",
       "      <td>1</td>\n",
       "      <td>8</td>\n",
       "      <td>21</td>\n",
       "      <td>22</td>\n",
       "      <td>0</td>\n",
       "      <td>1</td>\n",
       "      <td>279</td>\n",
       "      <td>12</td>\n",
       "      <td>3</td>\n",
       "      <td>7</td>\n",
       "      <td>1</td>\n",
       "      <td>0</td>\n",
       "      <td>0</td>\n",
       "      <td>292.384427</td>\n",
       "    </tr>\n",
       "    <tr>\n",
       "      <th>3</th>\n",
       "      <td>1</td>\n",
       "      <td>8</td>\n",
       "      <td>21</td>\n",
       "      <td>22</td>\n",
       "      <td>0</td>\n",
       "      <td>1</td>\n",
       "      <td>395</td>\n",
       "      <td>10</td>\n",
       "      <td>0</td>\n",
       "      <td>6</td>\n",
       "      <td>0</td>\n",
       "      <td>0</td>\n",
       "      <td>0</td>\n",
       "      <td>326.151493</td>\n",
       "    </tr>\n",
       "    <tr>\n",
       "      <th>4</th>\n",
       "      <td>1</td>\n",
       "      <td>8</td>\n",
       "      <td>21</td>\n",
       "      <td>22</td>\n",
       "      <td>0</td>\n",
       "      <td>1</td>\n",
       "      <td>488</td>\n",
       "      <td>42</td>\n",
       "      <td>0</td>\n",
       "      <td>14</td>\n",
       "      <td>1</td>\n",
       "      <td>1</td>\n",
       "      <td>1</td>\n",
       "      <td>218.292331</td>\n",
       "    </tr>\n",
       "  </tbody>\n",
       "</table>\n",
       "</div>"
      ],
      "text/plain": [
       "   order_requests  city_x  date  language  mobile  avatar_id  hotel_id  stock  \\\n",
       "0               1       8    21        22       0          1       161     46   \n",
       "1               1       8    21        22       0          1       187     32   \n",
       "2               1       8    21        22       0          1       279     12   \n",
       "3               1       8    21        22       0          1       395     10   \n",
       "4               1       8    21        22       0          1       488     42   \n",
       "\n",
       "   group  brand  parking  pool  children_policy       price  \n",
       "0      1      8        1     0                0  204.835708  \n",
       "1      0      9        1     1                0  223.086785  \n",
       "2      3      7        1     0                0  292.384427  \n",
       "3      0      6        0     0                0  326.151493  \n",
       "4      0     14        1     1                1  218.292331  "
      ]
     },
     "execution_count": 9,
     "metadata": {},
     "output_type": "execute_result"
    }
   ],
   "source": [
    "import pandas as pd\n",
    "\n",
    "# Charger les données\n",
    "synthetic_pricing_data_path = \"synthetic_pricing_data_calibrated.csv\"\n",
    "df_synthetic_pricing_data = pd.read_csv(synthetic_pricing_data_path)\n",
    "\n",
    "# Afficher les premières lignes des données\n",
    "df_synthetic_pricing_data.head()"
   ]
  },
  {
   "cell_type": "markdown",
   "id": "ac4cb8e7-83bc-4c99-a0e8-f42725ecca06",
   "metadata": {},
   "source": [
    "### Restreindre la variable price à deux chiffres après la virgule"
   ]
  },
  {
   "cell_type": "code",
   "execution_count": 10,
   "id": "a67ff7b8-2642-432d-b35a-e4aaa94fcd71",
   "metadata": {},
   "outputs": [],
   "source": [
    "df_synthetic_pricing_data[\"price\"] = df_synthetic_pricing_data[\"price\"].round(2)"
   ]
  },
  {
   "cell_type": "code",
   "execution_count": 11,
   "id": "1d30844b-ee5e-4c3e-ab66-a283c066594d",
   "metadata": {},
   "outputs": [
    {
     "data": {
      "text/plain": [
       "(6644, 14)"
      ]
     },
     "execution_count": 11,
     "metadata": {},
     "output_type": "execute_result"
    }
   ],
   "source": [
    "df_synthetic_pricing_data.shape"
   ]
  },
  {
   "cell_type": "markdown",
   "id": "9deb0fa9-398b-4775-83a2-f06df487f9da",
   "metadata": {},
   "source": [
    "## 1. Identifier et visualiser les prix extrêmes pour une éventuelle correction ou transformation des données !"
   ]
  },
  {
   "cell_type": "code",
   "execution_count": 8,
   "id": "8b1e7cbc-b4da-4cac-87c6-2edcc279e13c",
   "metadata": {},
   "outputs": [
    {
     "data": {
      "image/png": "[encoded data removed]",
      "text/plain": [
       "<Figure size 800x500 with 1 Axes>"
      ]
     },
     "metadata": {},
     "output_type": "display_data"
    },
    {
     "name": "stdout",
     "output_type": "stream",
     "text": [
      "🔍 Nombre total d'outliers détectés : 0\n",
      "📉 Seuil inférieur : -70.59 €\n",
      "📈 Seuil supérieur : 610.83 €\n"
     ]
    }
   ],
   "source": [
    "import seaborn as sns\n",
    "import matplotlib.pyplot as plt\n",
    "\n",
    "\n",
    "# Vérification des outliers avec un boxplot\n",
    "plt.figure(figsize=(8, 5))\n",
    "sns.boxplot(x=df_synthetic_pricing_data[\"price\"], color=\"red\")\n",
    "plt.title(\"Distribution des prix (Outliers après suppression des valeurs négatives)\")\n",
    "plt.xlabel(\"Prix (€)\")\n",
    "plt.show()\n",
    "\n",
    "# Détection des outliers avec la méthode IQR\n",
    "Q1 = df_synthetic_pricing_data[\"price\"].quantile(0.25)\n",
    "Q3 = df_synthetic_pricing_data[\"price\"].quantile(0.75)\n",
    "IQR = Q3 - Q1\n",
    "\n",
    "lower_bound = Q1 - 1.5 * IQR\n",
    "upper_bound = Q3 + 1.5 * IQR\n",
    "\n",
    "outliers = df_synthetic_pricing_data[(df_synthetic_pricing_data[\"price\"] < lower_bound) | \n",
    "                                     (df_synthetic_pricing_data[\"price\"] > upper_bound)]\n",
    "\n",
    "# Affichage des résultats\n",
    "print(f\"🔍 Nombre total d'outliers détectés : {outliers.shape[0]}\")\n",
    "print(f\"📉 Seuil inférieur : {lower_bound:.2f} €\")\n",
    "print(f\"📈 Seuil supérieur : {upper_bound:.2f} €\")"
   ]
  },
  {
   "cell_type": "markdown",
   "id": "7df88747-a5ee-47a5-96a6-e61b3c131526",
   "metadata": {},
   "source": [
    "### 📊 Analyse de la distribution des prix  \n",
    "\n",
    "Le boxplot montre une répartition cohérente des prix des hôtels, avec une médiane autour de **200-300 €**, conforme à l'objectif fixé. La majorité des prix se situent entre **100 € et 500 €**, sans valeurs aberrantes détectées. Cette distribution reflète bien l’impact des facteurs influençant les prix, comme la disponibilité des chambres, la présence d’équipements (**parking, piscine**) et l’appartenance à une marque. ✅"
   ]
  },
  {
   "cell_type": "markdown",
   "id": "608a5944-2530-4eee-81ef-c5d4594b57c6",
   "metadata": {},
   "source": [
    "## 2. Préparer les données pour l'entraînement : Séparer les données en train/test"
   ]
  },
  {
   "cell_type": "code",
   "execution_count": 12,
   "id": "b7879667-3185-4e5f-8378-56b80f38909f",
   "metadata": {},
   "outputs": [
    {
     "data": {
      "text/plain": [
       "((5315, 11), (1329, 11), (5315,), (1329,))"
      ]
     },
     "execution_count": 12,
     "metadata": {},
     "output_type": "execute_result"
    }
   ],
   "source": [
    "from sklearn.model_selection import train_test_split\n",
    "\n",
    "# Définir les features (X) et la variable cible (y)\n",
    "X = df_synthetic_pricing_data.drop(columns=[\"price\", \"hotel_id\", \"avatar_id\"])  # Supprimer les identifiants inutiles\n",
    "y = df_synthetic_pricing_data[\"price\"]\n",
    "\n",
    "# Division en jeu d'entraînement (80%) et de test (20%)\n",
    "X_train, X_test, y_train, y_test = train_test_split(X, y, test_size=0.2, random_state=42)\n",
    "\n",
    "# Vérifier la taille des ensembles\n",
    "X_train.shape, X_test.shape, y_train.shape, y_test.shape"
   ]
  },
  {
   "cell_type": "markdown",
   "id": "4abef3b0-ead8-4263-b172-98ec30b206f5",
   "metadata": {},
   "source": [
    "## 3. Entraîner plusieurs modèles de Machine Learning"
   ]
  },
  {
   "cell_type": "code",
   "execution_count": 13,
   "id": "46fb9942-e1f2-4381-85ea-ca7ec1ae6d5c",
   "metadata": {},
   "outputs": [
    {
     "name": "stdout",
     "output_type": "stream",
     "text": [
      "🔄 Entraînement du modèle : Régression Linéaire...\n",
      "🔄 Entraînement du modèle : Random Forest...\n",
      "🔄 Entraînement du modèle : XGBoost...\n"
     ]
    },
    {
     "data": {
      "text/plain": [
       "{'Régression Linéaire': 62.57155373941924,\n",
       " 'Random Forest': 55.64702281237463,\n",
       " 'XGBoost': 56.85951910581103}"
      ]
     },
     "execution_count": 13,
     "metadata": {},
     "output_type": "execute_result"
    }
   ],
   "source": [
    "# Import des modèles\n",
    "from sklearn.linear_model import LinearRegression\n",
    "from sklearn.ensemble import RandomForestRegressor\n",
    "import xgboost as xgb\n",
    "from sklearn.metrics import mean_squared_error\n",
    "import numpy as np\n",
    "\n",
    "# Initialiser les modèles\n",
    "models = {\n",
    "    \"Régression Linéaire\": LinearRegression(),\n",
    "    \"Random Forest\": RandomForestRegressor(n_estimators=100, random_state=42),\n",
    "    \"XGBoost\": xgb.XGBRegressor(n_estimators=100, random_state=42),\n",
    "}\n",
    "\n",
    "# Dictionnaire pour stocker les résultats\n",
    "results = {}\n",
    "\n",
    "# Entraînement et évaluation de chaque modèle\n",
    "for name, model in models.items():\n",
    "    print(f\"🔄 Entraînement du modèle : {name}...\")\n",
    "    model.fit(X_train, y_train)\n",
    "    y_pred = model.predict(X_test)\n",
    "    rmse = np.sqrt(mean_squared_error(y_test, y_pred))\n",
    "    results[name] = rmse\n",
    "\n",
    "# Afficher les résultats des modèles\n",
    "results"
   ]
  },
  {
   "cell_type": "markdown",
   "id": "f811d886-a999-4ea8-b5bc-44e55c180cf6",
   "metadata": {},
   "source": [
    "## 4. Optimiser les hyperparamètres avec GridSearchCV"
   ]
  },
  {
   "cell_type": "code",
   "execution_count": 14,
   "id": "385f0467-a0b5-450f-8803-5b1f28d5fefb",
   "metadata": {},
   "outputs": [
    {
     "name": "stdout",
     "output_type": "stream",
     "text": [
      "✅ Meilleurs paramètres pour Random Forest : {'max_depth': 10, 'min_samples_split': 10, 'n_estimators': 200}\n",
      "🏆 Meilleur RMSE : 50.60377903184318\n",
      "✅ Meilleurs paramètres pour XGBoost : {'learning_rate': 0.1, 'max_depth': 3, 'n_estimators': 50}\n",
      "🏆 Meilleur RMSE : 49.13971535994767\n"
     ]
    }
   ],
   "source": [
    "from sklearn.model_selection import GridSearchCV\n",
    "\n",
    "# Hyperparamètres pour Random Forest\n",
    "param_grid_rf = {\n",
    "    \"n_estimators\": [50, 100, 200],\n",
    "    \"max_depth\": [10, 20, None],\n",
    "    \"min_samples_split\": [2, 5, 10]\n",
    "}\n",
    "\n",
    "grid_rf = GridSearchCV(RandomForestRegressor(random_state=42), param_grid_rf, cv=3, scoring=\"neg_root_mean_squared_error\", n_jobs=-1)\n",
    "grid_rf.fit(X_train, y_train)\n",
    "\n",
    "print(f\"✅ Meilleurs paramètres pour Random Forest : {grid_rf.best_params_}\")\n",
    "print(f\"🏆 Meilleur RMSE : {-grid_rf.best_score_}\")\n",
    "\n",
    "# Hyperparamètres pour XGBoost\n",
    "param_grid_xgb = {\n",
    "    \"n_estimators\": [50, 100, 200],\n",
    "    \"learning_rate\": [0.01, 0.1, 0.2],\n",
    "    \"max_depth\": [3, 6, 10]\n",
    "}\n",
    "\n",
    "grid_xgb = GridSearchCV(xgb.XGBRegressor(random_state=42), param_grid_xgb, cv=3, scoring=\"neg_root_mean_squared_error\", n_jobs=-1)\n",
    "grid_xgb.fit(X_train, y_train)\n",
    "\n",
    "print(f\"✅ Meilleurs paramètres pour XGBoost : {grid_xgb.best_params_}\")\n",
    "print(f\"🏆 Meilleur RMSE : {-grid_xgb.best_score_}\")"
   ]
  },
  {
   "cell_type": "markdown",
   "id": "41ae8cf0-e8cd-4063-b4f4-63c0b3334e11",
   "metadata": {},
   "source": [
    "## 5. Visualiser les résultats"
   ]
  },
  {
   "cell_type": "code",
   "execution_count": 15,
   "id": "26a731de-0110-4c6e-9469-6de7cb53c050",
   "metadata": {},
   "outputs": [
    {
     "data": {
      "image/png": "[encoded data removed]",
      "text/plain": [
       "<Figure size 800x500 with 1 Axes>"
      ]
     },
     "metadata": {},
     "output_type": "display_data"
    }
   ],
   "source": [
    "import matplotlib.pyplot as plt\n",
    "\n",
    "# Afficher les performances des modèles\n",
    "plt.figure(figsize=(8, 5))\n",
    "plt.bar(results.keys(), results.values(), color=[\"blue\", \"green\", \"red\"])\n",
    "plt.title(\"Performance des modèles (RMSE)\")\n",
    "plt.xlabel(\"Modèles\")\n",
    "plt.ylabel(\"RMSE (erreur)\")\n",
    "plt.show()"
   ]
  },
  {
   "cell_type": "markdown",
   "id": "ba81f8c5-4ec3-43f5-8c7c-586be7bd5602",
   "metadata": {},
   "source": [
    "## 6. sauvegardons le meilleur modèle dans le dossier backend/model"
   ]
  },
  {
   "cell_type": "code",
   "execution_count": 16,
   "id": "26ec4000-a688-4480-a730-f0da2708d03b",
   "metadata": {},
   "outputs": [
    {
     "name": "stdout",
     "output_type": "stream",
     "text": [
      "✅ Le modèle 'Random Forest' a été sauvegardé sous : backend/model\\random_forest_model.pkl\n"
     ]
    }
   ],
   "source": [
    "import joblib\n",
    "import os\n",
    "\n",
    "# Créer le dossier s'il n'existe pas\n",
    "model_dir = \"backend/model\"\n",
    "os.makedirs(model_dir, exist_ok=True)\n",
    "\n",
    "# Sélectionner le meilleur modèle en fonction du RMSE\n",
    "best_model_name = min(results, key=results.get)  # Modèle avec le plus petit RMSE\n",
    "best_model = models[best_model_name]\n",
    "\n",
    "# Définir le chemin de sauvegarde du modèle\n",
    "model_filename = f\"{best_model_name.replace(' ', '_').lower()}_model.pkl\"\n",
    "model_path = os.path.join(model_dir, model_filename)\n",
    "\n",
    "# Sauvegarder le modèle\n",
    "joblib.dump(best_model, model_path)\n",
    "\n",
    "print(f\"✅ Le modèle '{best_model_name}' a été sauvegardé sous : {model_path}\")"
   ]
  },
  {
   "cell_type": "code",
   "execution_count": null,
   "id": "6a1da3b5-baee-43a8-96ad-ceae322413bd",
   "metadata": {},
   "outputs": [],
   "source": []
  }
 ],
 "metadata": {
  "kernelspec": {
   "display_name": "Python 3 (ipykernel)",
   "language": "python",
   "name": "python3"
  },
  "language_info": {
   "codemirror_mode": {
    "name": "ipython",
    "version": 3
   },
   "file_extension": ".py",
   "mimetype": "text/x-python",
   "name": "python",
   "nbconvert_exporter": "python",
   "pygments_lexer": "ipython3",
   "version": "3.12.7"
  }
 },
 "nbformat": 4,
 "nbformat_minor": 5
}
